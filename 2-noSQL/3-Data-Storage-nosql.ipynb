{
 "cells": [
  {
   "cell_type": "markdown",
   "metadata": {
    "id": "J7-WgqsNrF4r"
   },
   "source": [
    "# Task 1: Create an account and getting familiar with MongoDB\n",
    "\n",
    "## 1.1 - Setup an MongoDB ATLAS account\n",
    "Follow the instructions from here: https://docs.google.com/document/d/1Puyz0RLfEqiCRl-ZaKdtKloEqVsN8GKdMuraKn1ZdoI/edit?usp=sharing \n",
    "\n",
    "\n",
    "## 1.2 - MongoDB concepts compared to Relational DB concepts\n",
    "In MongoDB, a **database** is the container for collections. A single **collection**  is the container for documents. **Documents** are usually key/value pairs but it can include arrays and subdocuments. It can support different data types. More information here: https://docs.mongodb.com/manual/reference/bson-types/. \n",
    "\n",
    "| Relational DB  | MongoDB  |\n",
    "|---|---|\n",
    "|  Database | Database  |  \n",
    "| Tables  |  Collections |\n",
    "| Rows  | Documents  |\n",
    "| Index  |  Index |\n",
    " \t\n",
    "\n",
    "\n",
    "## 1.3 Document structure\n",
    "You can find more information about MongoDB document structure https://docs.mongodb.com/manual/core/document/. If you are not familiar with JSON and BSON specifications, you might wish to read about them here:\n",
    "- JSON: https://www.json.org/json-en.html\n",
    "- BSON: http://bsonspec.org\n",
    "\n"
   ]
  },
  {
   "cell_type": "markdown",
   "metadata": {
    "id": "NwYGltl9LBXL"
   },
   "source": [
    "# Task 2: Query a dataset\n",
    "\n",
    "We need `pymongo`, `dnspython` and `python==3.6`"
   ]
  },
  {
   "cell_type": "code",
   "execution_count": 1,
   "metadata": {
    "colab": {
     "base_uri": "https://localhost:8080/"
    },
    "id": "CPZgIJVNJY7c",
    "outputId": "32e24838-4ed2-4eff-fb89-e65a36236e76"
   },
   "outputs": [
    {
     "name": "stdout",
     "output_type": "stream",
     "text": [
      "Requirement already satisfied: pymongo in c:\\users\\sen\\anaconda3\\envs\\yusen\\lib\\site-packages (4.2.0)\n",
      "Requirement already satisfied: dnspython in c:\\users\\sen\\anaconda3\\envs\\yusen\\lib\\site-packages (2.2.1)\n"
     ]
    }
   ],
   "source": [
    "# install missing library\n",
    "!pip install pymongo\n",
    "!pip install dnspython"
   ]
  },
  {
   "cell_type": "markdown",
   "metadata": {
    "id": "eteAo2GFgyj1"
   },
   "source": [
    "If you use Google's collab, you now have to select `Runtime -> Restart runtime` or `Ctrl+M`.\n"
   ]
  },
  {
   "cell_type": "code",
   "execution_count": 2,
   "metadata": {
    "cellView": "form",
    "id": "LmlIorJ9An-P"
   },
   "outputs": [],
   "source": [
    "#@title Imports\n",
    "import pymongo\n",
    "from pprint import pprint\n",
    "from random import randint"
   ]
  },
  {
   "cell_type": "markdown",
   "metadata": {
    "id": "-u3HJH_9LmAE"
   },
   "source": [
    "## 2.1 - Establish a connection to MongoDB\n",
    "\n",
    "- **_[TO DO]_** : Connect to MongoDB using the MongoClient class from PyMongo library.\n",
    "\n",
    "\n"
   ]
  },
  {
   "cell_type": "code",
   "execution_count": 7,
   "metadata": {
    "id": "fo-Z1QJtAvin"
   },
   "outputs": [],
   "source": [
    "###########################\n",
    "# Task: \n",
    "#   use MongoClient class to connect to MongoDB\n",
    "#\n",
    "###########################\n",
    "\n",
    "\n",
    "\n",
    "client = pymongo.MongoClient('mongodb+srv://yusenliu:<password>@cluster0.ouc9sfg.mongodb.net/?retryWrites=true&w=majority')\n",
    "\n",
    "db=client.admin\n",
    "\n",
    "\n",
    "#########\n"
   ]
  },
  {
   "cell_type": "markdown",
   "metadata": {
    "id": "q0cxB6e3Z2Pz"
   },
   "source": [
    "Let's check whether everything works properly by retrieving the server status and printing the results, as follows:"
   ]
  },
  {
   "cell_type": "code",
   "execution_count": 8,
   "metadata": {
    "colab": {
     "base_uri": "https://localhost:8080/"
    },
    "id": "5m0B-AeUaBjP",
    "outputId": "01379b37-145a-4ddc-e25f-b42c81c60c54"
   },
   "outputs": [
    {
     "name": "stdout",
     "output_type": "stream",
     "text": [
      "{'host': 'ac-ic8dskn-shard-00-02.ouc9sfg.mongodb.net:27017', 'version': '5.0.13', 'process': 'mongod', 'pid': 3511, 'uptime': 1305334.0, 'uptimeMillis': 1305333538, 'uptimeEstimate': 1305333, 'localTime': datetime.datetime(2022, 11, 2, 18, 10, 17, 27000), 'asserts': {'regular': 0, 'warning': 0, 'msg': 0, 'user': 0, 'rollovers': 0}, 'connections': {'current': 5, 'available': 495, 'totalCreated': 55}, 'extra_info': {'note': 'fields vary by platform', 'page_faults': 0}, 'network': {'bytesIn': 319257679, 'bytesOut': 1602029, 'numRequests': 1121}, 'opcounters': {'insert': 424065, 'query': 0, 'update': 0, 'delete': 0, 'getmore': 0, 'command': 679, 'deprecated': {'query': 0, 'getmore': 0}}, 'opcountersRepl': {'insert': 0, 'query': 0, 'update': 0, 'delete': 0, 'getmore': 0, 'command': 0, 'deprecated': {'query': 0, 'getmore': 0}}, 'repl': {'topologyVersion': {'processId': ObjectId('634ec793af23b44d6b12714b'), 'counter': 6}, 'hosts': ['ac-ic8dskn-shard-00-00.ouc9sfg.mongodb.net:27017', 'ac-ic8dskn-shard-00-01.ouc9sfg.mongodb.net:27017', 'ac-ic8dskn-shard-00-02.ouc9sfg.mongodb.net:27017'], 'setName': 'atlas-py6g2p-shard-0', 'setVersion': 7, 'isWritablePrimary': True, 'secondary': False, 'primary': 'ac-ic8dskn-shard-00-02.ouc9sfg.mongodb.net:27017', 'tags': {'nodeType': 'ELECTABLE', 'provider': 'AWS', 'workloadType': 'OPERATIONAL', 'region': 'EU_WEST_1'}, 'me': 'ac-ic8dskn-shard-00-02.ouc9sfg.mongodb.net:27017', 'electionId': ObjectId('7fffffff0000000000000055'), 'lastWrite': {'opTime': {'ts': Timestamp(1667412616, 1083), 't': 85}, 'lastWriteDate': datetime.datetime(2022, 11, 2, 18, 10, 16), 'majorityOpTime': {'ts': Timestamp(1667412616, 1083), 't': 85}, 'majorityWriteDate': datetime.datetime(2022, 11, 2, 18, 10, 16)}, 'primaryOnlyServices': {'TenantMigrationDonorService': {'state': 'running', 'numInstances': 0}, 'TenantMigrationRecipientService': {'state': 'running', 'numInstances': 0}}, 'rbid': 1}, 'storageEngine': {'name': 'wiredTiger', 'supportsCommittedReads': True, 'oldestRequiredTimestampForCrashRecovery': Timestamp(1667412599, 1000), 'supportsPendingDrops': True, 'dropPendingIdents': 2, 'supportsSnapshotReadConcern': True, 'readOnly': False, 'persistent': True, 'backupCursorOpen': False, 'supportsResumableIndexBuilds': True}, 'mem': {'bits': 64, 'resident': 0, 'virtual': 0, 'supported': True, 'mapped': 0, 'mappedWithJournal': 0}, 'metrics': {'aggStageCounters': {'search': 0, 'searchBeta': 0, 'searchMeta': 0}, 'operatorCounters': {'match': {'text': 0, 'regex': 0}}, 'atlas': {'connectionPool': {'totalCreated': 5507}}}, 'ok': 1.0, '$clusterTime': {'clusterTime': Timestamp(1667412616, 1083), 'signature': {'hash': b'k\\r\\x97/\\xa1\\x8f\\xf5Y4u\\xf8\\x9fJ\\x06\\x90\\x9a\\xa9\\xb3W\\x18', 'keyId': 7098350453632532481}}, 'operationTime': Timestamp(1667412616, 1083), 'opLatencies': {'reads': {'latency': 0, 'ops': 0}, 'writes': {'latency': 313671355, 'ops': 439}, 'commands': {'latency': 8137305165, 'ops': 675}}, 'atlasVersion': {'version': '20221026.1.0.1666807676', 'gitVersion': 'dbd2e4c16e2e6859a63258ecb6c3872ebe53ead8'}}\n"
     ]
    }
   ],
   "source": [
    "serverStatusResult=db.command(\"serverStatus\")\n",
    "print(serverStatusResult)"
   ]
  },
  {
   "cell_type": "markdown",
   "metadata": {
    "id": "VBV1hCxNMItl"
   },
   "source": [
    "\n",
    "## 2.2 - Create sample data\n",
    "\n",
    "Let's create our synthetic dataset with students, their mark (scaled from 1-10) and the reviewer on DAPS 2020.\n"
   ]
  },
  {
   "cell_type": "code",
   "execution_count": 9,
   "metadata": {
    "colab": {
     "base_uri": "https://localhost:8080/"
    },
    "id": "jfoG5Yema9jx",
    "outputId": "a76f4637-9f38-438c-ec58-ef46eb8e6178"
   },
   "outputs": [
    {
     "name": "stdout",
     "output_type": "stream",
     "text": [
      "[{'name': 'Andrew Turner', 'DAPS_assignment': 7, 'reviewer': 'Laura'}, {'name': 'Natalia Roberts', 'DAPS_assignment': 8, 'reviewer': 'Miguel'}, {'name': 'Andrew Armstrong', 'DAPS_assignment': 10, 'reviewer': 'Miguel'}, {'name': 'Anna Peterson', 'DAPS_assignment': 7, 'reviewer': 'Laura'}, {'name': 'Anna Armstrong', 'DAPS_assignment': 4, 'reviewer': 'Miguel'}, {'name': 'Mike Baker', 'DAPS_assignment': 9, 'reviewer': 'Laura'}, {'name': 'George Armstrong', 'DAPS_assignment': 3, 'reviewer': 'Miguel'}, {'name': 'George Palmer', 'DAPS_assignment': 10, 'reviewer': 'Miguel'}, {'name': 'Natalia Adams', 'DAPS_assignment': 3, 'reviewer': 'Laura'}, {'name': 'Nick Peterson', 'DAPS_assignment': 4, 'reviewer': 'Miguel'}, {'name': 'Paul Turner', 'DAPS_assignment': 2, 'reviewer': 'Laura'}, {'name': 'Natalia Armstrong', 'DAPS_assignment': 6, 'reviewer': 'Miguel'}, {'name': 'Paul Peterson', 'DAPS_assignment': 5, 'reviewer': 'Miguel'}, {'name': 'Andrew Armstrong', 'DAPS_assignment': 4, 'reviewer': 'Laura'}, {'name': 'Natalia Adams', 'DAPS_assignment': 8, 'reviewer': 'Laura'}, {'name': 'Maria Armstrong', 'DAPS_assignment': 8, 'reviewer': 'Laura'}, {'name': 'Alex Baker', 'DAPS_assignment': 2, 'reviewer': 'Miguel'}, {'name': 'Ellie Peterson', 'DAPS_assignment': 7, 'reviewer': 'Miguel'}, {'name': 'Natalia Palmer', 'DAPS_assignment': 6, 'reviewer': 'Miguel'}, {'name': 'Andrew Peterson', 'DAPS_assignment': 10, 'reviewer': 'Laura'}, {'name': 'George Armstrong', 'DAPS_assignment': 9, 'reviewer': 'Laura'}, {'name': 'Ellie Adams', 'DAPS_assignment': 6, 'reviewer': 'Laura'}, {'name': 'Ellie Armstrong', 'DAPS_assignment': 5, 'reviewer': 'Miguel'}, {'name': 'Maria Roberts', 'DAPS_assignment': 5, 'reviewer': 'Laura'}, {'name': 'Alex Roberts', 'DAPS_assignment': 5, 'reviewer': 'Miguel'}, {'name': 'Paul Roberts', 'DAPS_assignment': 5, 'reviewer': 'Miguel'}, {'name': 'Alex Adams', 'DAPS_assignment': 2, 'reviewer': 'Laura'}, {'name': 'Ellie Peterson', 'DAPS_assignment': 1, 'reviewer': 'Miguel'}, {'name': 'Maria Palmer', 'DAPS_assignment': 5, 'reviewer': 'Miguel'}]\n"
     ]
    }
   ],
   "source": [
    "names = ['Anna','Maria','George', 'Mike', 'Alex','Paul','Nick', 'Andrew','Ellie', 'Natalia']\n",
    "surname = ['Adams', 'Baker', 'Palmer', 'Peterson', 'Roberts', 'Turner', 'Armstrong']\n",
    "reviewer = ['Laura','Miguel']\n",
    "student=[]\n",
    "for i in range(1, 30):\n",
    "    student.append({\n",
    "        'name' : names[randint(0, (len(names)-1))] + ' '  + surname[randint(0, (len(surname)-1))],\n",
    "        'DAPS_assignment' : randint(1, 10),\n",
    "        'reviewer':  reviewer[randint(0, (len(reviewer)-1))] })\n",
    "print(student)"
   ]
  },
  {
   "cell_type": "markdown",
   "metadata": {
    "id": "D_GisBsPa7R_"
   },
   "source": [
    "\n",
    "\n",
    "**_[TO DO]_**: Upload this database using `insert_one` or `insert_many` command.\n"
   ]
  },
  {
   "cell_type": "code",
   "execution_count": 24,
   "metadata": {
    "id": "Fy7pnMz3gUxL"
   },
   "outputs": [],
   "source": [
    "# Create a database object called “students”\n",
    "# db = client.students\n",
    "db = client['students']"
   ]
  },
  {
   "cell_type": "code",
   "execution_count": 25,
   "metadata": {
    "id": "hMZf2aDDi7tC"
   },
   "outputs": [
    {
     "data": {
      "text/plain": [
       "<pymongo.results.InsertManyResult at 0x1e452891848>"
      ]
     },
     "execution_count": 25,
     "metadata": {},
     "output_type": "execute_result"
    }
   ],
   "source": [
    "###########################\n",
    "# Task: \n",
    "#   upload this database using insert_one or insert_many command\n",
    "#\n",
    "###########################\n",
    "\n",
    "\n",
    "# ### TO DO\n",
    "collection = db[\"students\"]\n",
    "collection.insert_many(student)\n",
    "\n",
    "\n",
    "#########"
   ]
  },
  {
   "cell_type": "markdown",
   "metadata": {
    "id": "ACbLHpq0MuxJ"
   },
   "source": [
    "## 2.3 - Query a document\n",
    "\n",
    "\n",
    "**_[TO DO]_** : Find one student with score of 5. You can use the command `find_one`.\n",
    "\n"
   ]
  },
  {
   "cell_type": "code",
   "execution_count": 30,
   "metadata": {
    "id": "5568ROVpjbbc"
   },
   "outputs": [
    {
     "name": "stdout",
     "output_type": "stream",
     "text": [
      "Paul Peterson\n"
     ]
    }
   ],
   "source": [
    "###########################\n",
    "# Task: \n",
    "#   find one student with final DAPS_assignment score equal 5\n",
    "#\n",
    "###########################\n",
    "\n",
    "\n",
    "### TO DO\n",
    "\n",
    "someone = collection.find_one({'DAPS_assignment': 5})\n",
    "print(someone['name'])\n",
    "#########"
   ]
  },
  {
   "cell_type": "markdown",
   "metadata": {
    "id": "N-YouR9Djwo3"
   },
   "source": [
    "\n",
    "**_[TO DO]_** : Query the database to find the total number of students with score 8 and 3? You can use `aggregation` or `find` command.\n"
   ]
  },
  {
   "cell_type": "code",
   "execution_count": 60,
   "metadata": {
    "id": "Y_py_6fykWdB"
   },
   "outputs": [
    {
     "data": {
      "text/plain": [
       "5"
      ]
     },
     "execution_count": 60,
     "metadata": {},
     "output_type": "execute_result"
    }
   ],
   "source": [
    "###########################\n",
    "# Task: \n",
    "#   Count the total students with final DAPS_assignment score equal to 3 and 8.\n",
    "#\n",
    "###########################\n",
    "\n",
    "\n",
    "### TO DO\n",
    "\n",
    "other = collection.find({'$or': [{ 'DAPS_assignment':3}, { 'DAPS_assignment':8}]})\n",
    "students3_8 = []\n",
    "for ones in other:\n",
    "   students3_8.append(ones[\"name\"])\n",
    "len(students3_8)\n",
    "#########"
   ]
  },
  {
   "cell_type": "markdown",
   "metadata": {
    "id": "xIUZ5CKbYBAH"
   },
   "source": [
    " Dr. Laura Toni is happy today and she is going to pass all students with final score 4.\n",
    " \n",
    "**_[TO DO]_** : Change the score on all the students with final mark 4 to 5. You can use one of the following commands: `update_one`, `update_many` and `replace_one`."
   ]
  },
  {
   "cell_type": "code",
   "execution_count": 67,
   "metadata": {
    "id": "jZa9wDMwmKCN"
   },
   "outputs": [
    {
     "data": {
      "text/plain": [
       "<pymongo.results.UpdateResult at 0x1e452ab1188>"
      ]
     },
     "execution_count": 67,
     "metadata": {},
     "output_type": "execute_result"
    }
   ],
   "source": [
    "###########################\n",
    "# Task: \n",
    "#   Adjust the score on all the students with final mark 4 to 5.\n",
    "#\n",
    "###########################\n",
    "\n",
    "\n",
    "### TO DO\n",
    "collection.update_many({'DAPS_assignment': 4},{'$set': {'DAPS_assignment':5} })\n",
    "\n",
    "#########"
   ]
  },
  {
   "cell_type": "code",
   "execution_count": 68,
   "metadata": {},
   "outputs": [
    {
     "ename": "TypeError",
     "evalue": "'NoneType' object is not subscriptable",
     "output_type": "error",
     "traceback": [
      "\u001b[1;31m---------------------------------------------------------------------------\u001b[0m",
      "\u001b[1;31mTypeError\u001b[0m                                 Traceback (most recent call last)",
      "\u001b[1;32m~\\AppData\\Local\\Temp\\ipykernel_71688\\1217177607.py\u001b[0m in \u001b[0;36m<module>\u001b[1;34m\u001b[0m\n\u001b[0;32m      1\u001b[0m \u001b[0mmaybenoone\u001b[0m \u001b[1;33m=\u001b[0m \u001b[0mcollection\u001b[0m\u001b[1;33m.\u001b[0m\u001b[0mfind_one\u001b[0m\u001b[1;33m(\u001b[0m\u001b[1;33m{\u001b[0m\u001b[1;34m'DAPS_assignment'\u001b[0m\u001b[1;33m:\u001b[0m \u001b[1;36m4\u001b[0m\u001b[1;33m}\u001b[0m\u001b[1;33m)\u001b[0m\u001b[1;33m\u001b[0m\u001b[1;33m\u001b[0m\u001b[0m\n\u001b[1;32m----> 2\u001b[1;33m \u001b[0mprint\u001b[0m\u001b[1;33m(\u001b[0m\u001b[0mmaybenoone\u001b[0m\u001b[1;33m[\u001b[0m\u001b[1;34m'name'\u001b[0m\u001b[1;33m]\u001b[0m\u001b[1;33m)\u001b[0m\u001b[1;33m\u001b[0m\u001b[1;33m\u001b[0m\u001b[0m\n\u001b[0m",
      "\u001b[1;31mTypeError\u001b[0m: 'NoneType' object is not subscriptable"
     ]
    }
   ],
   "source": [
    "maybenoone = collection.find_one({'DAPS_assignment': 4})\n",
    "print(maybenoone['name'])"
   ]
  },
  {
   "cell_type": "markdown",
   "metadata": {
    "id": "RkhWS8UTNzN6"
   },
   "source": [
    "That was an unfair move!\n",
    "\n",
    "**_[TO DO]_** : Let's delete all the documents that Dr. Laura Toni marked!"
   ]
  },
  {
   "cell_type": "code",
   "execution_count": 69,
   "metadata": {
    "id": "33_3Nkyyq0TW"
   },
   "outputs": [
    {
     "data": {
      "text/plain": [
       "<pymongo.results.DeleteResult at 0x1e4528b4dc8>"
      ]
     },
     "execution_count": 69,
     "metadata": {},
     "output_type": "execute_result"
    }
   ],
   "source": [
    "###########################\n",
    "# Task: \n",
    "#   Delete all documents with `reviewer:Laura`.\n",
    "#\n",
    "###########################\n",
    "\n",
    "collection.delete_many({'reviewer': 'Laura'})\n",
    "### TO DO\n",
    "\n",
    "\n",
    "\n",
    "#########"
   ]
  },
  {
   "cell_type": "markdown",
   "metadata": {
    "id": "Thelgo7FiULB"
   },
   "source": [
    "GOOD JOB! You finished the tasks!\n",
    "\n",
    "\n",
    "You might be asking yourself now: Why and when a non-elational database is useful? MongoDB allows storing data in documents. This is very useful when you have a lot of many-to-many relationships. Other advantages include:\n",
    "- it enables the fast development of applications, \n",
    "- it supports highly diverse data types, \n",
    "- and allows efficient interations with applications at scale.\n",
    "Read more here: https://www.mongodb.com/compare/mongodb-mysql \n",
    "\n",
    "\n",
    "You can learn more about developing MongoDB-based applications here:\n",
    "- https://university.mongodb.com/courses/M121/about?jmp=M101Pap\n",
    "- https://university.mongodb.com/courses/M220P/about?jmp=M101Pap\n",
    "- https://university.mongodb.com/courses/M320/about?jmp=M101Pap"
   ]
  }
 ],
 "metadata": {
  "colab": {
   "collapsed_sections": [],
   "name": "LAB3.ipynb",
   "provenance": []
  },
  "kernelspec": {
   "display_name": "Python 3.7.13 ('Yusen')",
   "language": "python",
   "name": "python3"
  },
  "language_info": {
   "codemirror_mode": {
    "name": "ipython",
    "version": 3
   },
   "file_extension": ".py",
   "mimetype": "text/x-python",
   "name": "python",
   "nbconvert_exporter": "python",
   "pygments_lexer": "ipython3",
   "version": "3.7.13"
  },
  "vscode": {
   "interpreter": {
    "hash": "306d7b5d316fc9f809242b88aa0f56fa941bb69172e331a579dd522d3afc99f9"
   }
  }
 },
 "nbformat": 4,
 "nbformat_minor": 1
}
